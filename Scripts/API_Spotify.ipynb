{
 "cells": [
  {
   "cell_type": "code",
   "execution_count": 61,
   "metadata": {},
   "outputs": [],
   "source": [
    "import tekore as tk\n",
    "import json"
   ]
  },
  {
   "cell_type": "code",
   "execution_count": 65,
   "metadata": {},
   "outputs": [
    {
     "name": "stdout",
     "output_type": "stream",
     "text": [
      "Veuillez entrer votre client_id: ex : \"d82q3sd3148q6sdq45343\"\"c9b543eba2a64e048ee7d445d397e167\"\n"
     ]
    }
   ],
   "source": [
    "### Necessite de créer en amont un appli sur le site Spotify\n",
    "print('Veuillez entrer votre client_id: ex : \"d82q3sd3148q6sdq45343\"')\n",
    "client_id = input()"
   ]
  },
  {
   "cell_type": "code",
   "execution_count": 66,
   "metadata": {},
   "outputs": [
    {
     "name": "stdout",
     "output_type": "stream",
     "text": [
      "Veuillez entrer votre client_secret: ex : \"d82q3sd3148q6sdq45343\"\"d83422c26dad4c619b62842e5ac2c67e\"\n"
     ]
    }
   ],
   "source": [
    "print('Veuillez entrer votre client_secret: ex : \"d82q3sd3148q6sdq45343\"')\n",
    "client_secret = input()"
   ]
  },
  {
   "cell_type": "code",
   "execution_count": 68,
   "metadata": {},
   "outputs": [
    {
     "ename": "BadRequest",
     "evalue": "400 invalid_client: Invalid client",
     "output_type": "error",
     "traceback": [
      "\u001b[0;31m---------------------------------------------------------------------------\u001b[0m",
      "\u001b[0;31mBadRequest\u001b[0m                                Traceback (most recent call last)",
      "\u001b[0;32m<ipython-input-68-3ba8532657dc>\u001b[0m in \u001b[0;36m<module>\u001b[0;34m()\u001b[0m\n\u001b[1;32m      1\u001b[0m \u001b[0;31m## Demande de token\u001b[0m\u001b[0;34m\u001b[0m\u001b[0;34m\u001b[0m\u001b[0;34m\u001b[0m\u001b[0m\n\u001b[0;32m----> 2\u001b[0;31m \u001b[0mapp_token\u001b[0m \u001b[0;34m=\u001b[0m \u001b[0mtk\u001b[0m\u001b[0;34m.\u001b[0m\u001b[0mrequest_client_token\u001b[0m\u001b[0;34m(\u001b[0m\u001b[0mclient_id\u001b[0m\u001b[0;34m,\u001b[0m \u001b[0mclient_secret\u001b[0m\u001b[0;34m)\u001b[0m\u001b[0;34m\u001b[0m\u001b[0;34m\u001b[0m\u001b[0m\n\u001b[0m\u001b[1;32m      3\u001b[0m \u001b[0;31m### Creation d'un objet Spotify\u001b[0m\u001b[0;34m\u001b[0m\u001b[0;34m\u001b[0m\u001b[0;34m\u001b[0m\u001b[0m\n\u001b[1;32m      4\u001b[0m \u001b[0mspotify\u001b[0m \u001b[0;34m=\u001b[0m \u001b[0mtk\u001b[0m\u001b[0;34m.\u001b[0m\u001b[0mSpotify\u001b[0m\u001b[0;34m(\u001b[0m\u001b[0mapp_token\u001b[0m\u001b[0;34m)\u001b[0m\u001b[0;34m\u001b[0m\u001b[0;34m\u001b[0m\u001b[0m\n",
      "\u001b[0;32m/home/thboyer/miniconda3/envs/Jupiter/lib/python3.7/site-packages/tekore/_auth/util.py\u001b[0m in \u001b[0;36mrequest_client_token\u001b[0;34m(client_id, client_secret)\u001b[0m\n\u001b[1;32m    202\u001b[0m     \"\"\"\n\u001b[1;32m    203\u001b[0m     \u001b[0mcred\u001b[0m \u001b[0;34m=\u001b[0m \u001b[0mRefreshingCredentials\u001b[0m\u001b[0;34m(\u001b[0m\u001b[0mclient_id\u001b[0m\u001b[0;34m,\u001b[0m \u001b[0mclient_secret\u001b[0m\u001b[0;34m)\u001b[0m\u001b[0;34m\u001b[0m\u001b[0;34m\u001b[0m\u001b[0m\n\u001b[0;32m--> 204\u001b[0;31m     \u001b[0;32mreturn\u001b[0m \u001b[0mcred\u001b[0m\u001b[0;34m.\u001b[0m\u001b[0mrequest_client_token\u001b[0m\u001b[0;34m(\u001b[0m\u001b[0;34m)\u001b[0m\u001b[0;34m\u001b[0m\u001b[0;34m\u001b[0m\u001b[0m\n\u001b[0m\u001b[1;32m    205\u001b[0m \u001b[0;34m\u001b[0m\u001b[0m\n\u001b[1;32m    206\u001b[0m \u001b[0;34m\u001b[0m\u001b[0m\n",
      "\u001b[0;32m/home/thboyer/miniconda3/envs/Jupiter/lib/python3.7/site-packages/tekore/_auth/refreshing.py\u001b[0m in \u001b[0;36mrequest_client_token\u001b[0;34m(self)\u001b[0m\n\u001b[1;32m    146\u001b[0m             \u001b[0mautomatically\u001b[0m \u001b[0mrefreshing\u001b[0m \u001b[0mclient\u001b[0m \u001b[0mtoken\u001b[0m\u001b[0;34m\u001b[0m\u001b[0;34m\u001b[0m\u001b[0m\n\u001b[1;32m    147\u001b[0m         \"\"\"\n\u001b[0;32m--> 148\u001b[0;31m         \u001b[0mtoken\u001b[0m \u001b[0;34m=\u001b[0m \u001b[0mself\u001b[0m\u001b[0;34m.\u001b[0m\u001b[0m_client\u001b[0m\u001b[0;34m.\u001b[0m\u001b[0mrequest_client_token\u001b[0m\u001b[0;34m(\u001b[0m\u001b[0;34m)\u001b[0m\u001b[0;34m\u001b[0m\u001b[0;34m\u001b[0m\u001b[0m\n\u001b[0m\u001b[1;32m    149\u001b[0m         \u001b[0;32mreturn\u001b[0m \u001b[0mRefreshingToken\u001b[0m\u001b[0;34m(\u001b[0m\u001b[0mtoken\u001b[0m\u001b[0;34m,\u001b[0m \u001b[0mself\u001b[0m\u001b[0;34m.\u001b[0m\u001b[0m_client\u001b[0m\u001b[0;34m)\u001b[0m\u001b[0;34m\u001b[0m\u001b[0;34m\u001b[0m\u001b[0m\n\u001b[1;32m    150\u001b[0m \u001b[0;34m\u001b[0m\u001b[0m\n",
      "\u001b[0;32m/home/thboyer/miniconda3/envs/Jupiter/lib/python3.7/site-packages/tekore/_sender/client.py\u001b[0m in \u001b[0;36mwrapper\u001b[0;34m(self, *args, **kwargs)\u001b[0m\n\u001b[1;32m     77\u001b[0m \u001b[0;34m\u001b[0m\u001b[0m\n\u001b[1;32m     78\u001b[0m             \u001b[0mresponse\u001b[0m \u001b[0;34m=\u001b[0m \u001b[0mself\u001b[0m\u001b[0;34m.\u001b[0m\u001b[0msend\u001b[0m\u001b[0;34m(\u001b[0m\u001b[0mrequest\u001b[0m\u001b[0;34m)\u001b[0m\u001b[0;34m\u001b[0m\u001b[0;34m\u001b[0m\u001b[0m\n\u001b[0;32m---> 79\u001b[0;31m             \u001b[0;32mreturn\u001b[0m \u001b[0mpost_func\u001b[0m\u001b[0;34m(\u001b[0m\u001b[0mrequest\u001b[0m\u001b[0;34m,\u001b[0m \u001b[0mresponse\u001b[0m\u001b[0;34m,\u001b[0m \u001b[0;34m*\u001b[0m\u001b[0mparams\u001b[0m\u001b[0;34m)\u001b[0m\u001b[0;34m\u001b[0m\u001b[0;34m\u001b[0m\u001b[0m\n\u001b[0m\u001b[1;32m     80\u001b[0m         \u001b[0;32mreturn\u001b[0m \u001b[0mwrapper\u001b[0m\u001b[0;34m\u001b[0m\u001b[0;34m\u001b[0m\u001b[0m\n\u001b[1;32m     81\u001b[0m     \u001b[0;32mreturn\u001b[0m \u001b[0mdecorator\u001b[0m\u001b[0;34m\u001b[0m\u001b[0;34m\u001b[0m\u001b[0m\n",
      "\u001b[0;32m/home/thboyer/miniconda3/envs/Jupiter/lib/python3.7/site-packages/tekore/_auth/expiring/decor.py\u001b[0m in \u001b[0;36mfunc\u001b[0;34m(request, response)\u001b[0m\n\u001b[1;32m     27\u001b[0m     \u001b[0;32mdef\u001b[0m \u001b[0mfunc\u001b[0m\u001b[0;34m(\u001b[0m\u001b[0mrequest\u001b[0m\u001b[0;34m:\u001b[0m \u001b[0mRequest\u001b[0m\u001b[0;34m,\u001b[0m \u001b[0mresponse\u001b[0m\u001b[0;34m:\u001b[0m \u001b[0mResponse\u001b[0m\u001b[0;34m)\u001b[0m \u001b[0;34m->\u001b[0m \u001b[0mToken\u001b[0m\u001b[0;34m:\u001b[0m\u001b[0;34m\u001b[0m\u001b[0;34m\u001b[0m\u001b[0m\n\u001b[1;32m     28\u001b[0m         \u001b[0;34m\"\"\"Parse token object from response.\"\"\"\u001b[0m\u001b[0;34m\u001b[0m\u001b[0;34m\u001b[0m\u001b[0m\n\u001b[0;32m---> 29\u001b[0;31m         \u001b[0mhandle_errors\u001b[0m\u001b[0;34m(\u001b[0m\u001b[0mrequest\u001b[0m\u001b[0;34m,\u001b[0m \u001b[0mresponse\u001b[0m\u001b[0;34m)\u001b[0m\u001b[0;34m\u001b[0m\u001b[0;34m\u001b[0m\u001b[0m\n\u001b[0m\u001b[1;32m     30\u001b[0m         \u001b[0;32mreturn\u001b[0m \u001b[0mToken\u001b[0m\u001b[0;34m(\u001b[0m\u001b[0mresponse\u001b[0m\u001b[0;34m.\u001b[0m\u001b[0mcontent\u001b[0m\u001b[0;34m,\u001b[0m \u001b[0muses_pkce\u001b[0m\u001b[0;34m)\u001b[0m\u001b[0;34m\u001b[0m\u001b[0;34m\u001b[0m\u001b[0m\n\u001b[1;32m     31\u001b[0m     \u001b[0;32mreturn\u001b[0m \u001b[0mfunc\u001b[0m\u001b[0;34m\u001b[0m\u001b[0;34m\u001b[0m\u001b[0m\n",
      "\u001b[0;32m/home/thboyer/miniconda3/envs/Jupiter/lib/python3.7/site-packages/tekore/_auth/expiring/decor.py\u001b[0m in \u001b[0;36mhandle_errors\u001b[0;34m(request, response)\u001b[0m\n\u001b[1;32m     20\u001b[0m \u001b[0;34m\u001b[0m\u001b[0m\n\u001b[1;32m     21\u001b[0m     \u001b[0merror_cls\u001b[0m \u001b[0;34m=\u001b[0m \u001b[0mget_error\u001b[0m\u001b[0;34m(\u001b[0m\u001b[0mresponse\u001b[0m\u001b[0;34m.\u001b[0m\u001b[0mstatus_code\u001b[0m\u001b[0;34m)\u001b[0m\u001b[0;34m\u001b[0m\u001b[0;34m\u001b[0m\u001b[0m\n\u001b[0;32m---> 22\u001b[0;31m     \u001b[0;32mraise\u001b[0m \u001b[0merror_cls\u001b[0m\u001b[0;34m(\u001b[0m\u001b[0merror_str\u001b[0m\u001b[0;34m,\u001b[0m \u001b[0mrequest\u001b[0m\u001b[0;34m=\u001b[0m\u001b[0mrequest\u001b[0m\u001b[0;34m,\u001b[0m \u001b[0mresponse\u001b[0m\u001b[0;34m=\u001b[0m\u001b[0mresponse\u001b[0m\u001b[0;34m)\u001b[0m\u001b[0;34m\u001b[0m\u001b[0;34m\u001b[0m\u001b[0m\n\u001b[0m\u001b[1;32m     23\u001b[0m \u001b[0;34m\u001b[0m\u001b[0m\n\u001b[1;32m     24\u001b[0m \u001b[0;34m\u001b[0m\u001b[0m\n",
      "\u001b[0;31mBadRequest\u001b[0m: 400 invalid_client: Invalid client"
     ]
    }
   ],
   "source": [
    "## Demande de token\n",
    "app_token = tk.request_client_token(client_id, client_secret)\n",
    "### Creation d'un objet Spotify\n",
    "spotify = tk.Spotify(app_token)"
   ]
  },
  {
   "cell_type": "code",
   "execution_count": 4,
   "metadata": {},
   "outputs": [
    {
     "name": "stdout",
     "output_type": "stream",
     "text": [
      "Opening browser for Spotify login...\n",
      "Please paste redirect URL: http://localhost:8888/callback?code=AQBA4GqJSqI-9MsYpzSeh5CRoVYgeNsZbfxyB_0BMLWX5CyY_z1eTaYeWrHH8r_ZWSKvETBYt6RDgK-FCrBgO7qLQzUpkjoCDL64nGYM5TSxhqxpCeaLJb6mpSj4Y7kwwyBau9gX6mJPkFX030Q6hRGTz_ZwDHuxAxlg4nqRIXVQcPINmo87GphInNh-rxtarnjVzoCz0yQlnSWQi-MocwysmgeunR4bTpM8qTpx2ZaFV2c3exbjEWXVL0ToEy241--B-0y_g6cCXgyThlEUteF9YvEmqQlDhIwhdkOEfmEV1f4LPmbmkEDAMu4ouUbUF_xmXZdE-L0MbWNvZdrQMlBC8ufIN3-LsMjKdQPxNkvMx4k-k9ZxTymXQVpFeEaXffPBXybhNE7rt9OMKS5ZMLfIGGN42AoUTH2D7YNsIWL9icQikiBr5OhVBHoRahkMr4RO3Y6isedVzRne18W8ayOSgRAdKOiUl1UN1Q-cBHgqPSwhYDOxlFKcnyyB8TUc3Mk8zOgCVi5ypb4tnujZy-J3XF3GdSS44hnwQ-RBvw_cGkZICDm_nRvwggOR_xvWmvOkvgvv1p513K7KoHDVs3ocHwWhS5Dwi5_i8Xzym7hy5RC00s7sKFNe91mcqdD6Ub-th9qsELgkl-L07wHlvFir4eQxIuWiiR3P4IpBLdN8P4whvw&state=9EMlYJVyfJjzLPCDZxzn7_8IP4p2FBcHfTsjONCbF5E\n"
     ]
    }
   ],
   "source": [
    "## Cette partie permet d'avoir accès aux information d'un utilisateur en particulier\n",
    "#redirect_uri=\"https://example.com/callback\"\n",
    "redirect_uri=\"http://localhost:8888/callback\"\n",
    "\n",
    "user_token = tk.prompt_for_user_token(\n",
    "    client_id,\n",
    "    client_secret,\n",
    "    redirect_uri,\n",
    "    scope=tk.scope.every\n",
    ")"
   ]
  },
  {
   "cell_type": "code",
   "execution_count": 6,
   "metadata": {},
   "outputs": [],
   "source": [
    "#Si il demande l'URL, prendre l'URL que la page spotify a généré après avoir accepté les conditions\n",
    "print(\"copier l'URL généré par spotify après avoir accepté les conditions d'utilisation\")\n",
    "spotify.token = user_token"
   ]
  },
  {
   "cell_type": "markdown",
   "metadata": {},
   "source": [
    "tk.Token.refresh_token\n",
    "user_id = \"to1993\"\n",
    "playlist = spotify.playlists(user_id,limit=10,offset=1)\n",
    "for item in playlist :\n",
    "    print(item.uri)"
   ]
  },
  {
   "cell_type": "code",
   "execution_count": 11,
   "metadata": {},
   "outputs": [
    {
     "name": "stdout",
     "output_type": "stream",
     "text": [
      "<class 'dict'>\n"
     ]
    }
   ],
   "source": [
    "##Récupération de ma playlist\n",
    "print(\"Veuillez entrer l'id de la playlist ex : '4dwDQduuO0YLNq8mxPTqnE'\")\n",
    "playlist_id=input()\n",
    "#4dwDQduuO0YLNq8mxPTqnE\n",
    "play_song=spotify.playlist_items(playlist_id,fields=\"items(track(artists(name,uri),album(name,uri),name,uri))\",limit=10,offset=1)"
   ]
  },
  {
   "cell_type": "code",
   "execution_count": 19,
   "metadata": {},
   "outputs": [],
   "source": [
    "#Creation du fichier Json pour ma playlist\n",
    "with open('playlist_spotify.json', 'w') as file_json :\n",
    "    json.dump(play_song, file_json) "
   ]
  },
  {
   "cell_type": "code",
   "execution_count": 55,
   "metadata": {},
   "outputs": [
    {
     "name": "stdout",
     "output_type": "stream",
     "text": [
      "{'items': [{'track': {'album': {'name': 'Curtain Call (Deluxe)', 'uri': 'spotify:album:71xFWYFtiHC8eP99QB30AA'}, 'artists': [{'name': 'Eminem', 'uri': 'spotify:artist:7dGJo4pcD2V6oG8kP0tJRR'}, {'name': 'Dido', 'uri': 'spotify:artist:2mpeljBig2IXLXRAFO9AAs'}], 'name': 'Stan', 'uri': 'spotify:track:4QVOTT9CM2ftSLwnYGNDjd'}}, {'track': {'album': {'name': 'Views', 'uri': 'spotify:album:3hARKC8cinq3mZLLAEaBh9'}, 'artists': [{'name': 'Drake', 'uri': 'spotify:artist:3TVXtAsR1Inumwj472S9r4'}], 'name': 'Hotline Bling', 'uri': 'spotify:track:2FBUoWkIuQXwayw2RNo5l6'}}, {'track': {'album': {'name': 'Graduation (UK Version)', 'uri': 'spotify:album:0EXLFY4NFNx4FlpAlFO7ly'}, 'artists': [{'name': 'Kanye West', 'uri': 'spotify:artist:5K4W6rqBFWDnAN6FQUkS6x'}], 'name': 'Stronger', 'uri': 'spotify:track:4y6c5vMzKKM3KsMbHtjKx5'}}, {'track': {'album': {'name': 'The Best of Grandmaster Flash & Sugar Hill', 'uri': 'spotify:album:7nOeJKOzO6f2Ui8FGvGiCc'}, 'artists': [{'name': 'The Sugarhill Gang', 'uri': 'spotify:artist:7zliF6Q946WznVk3ZMYhZX'}], 'name': \"Rapper's Delight\", 'uri': 'spotify:track:51H9vbUYd7aaa3vpdjFluC'}}, {'track': {'album': {'name': 'Phrenology', 'uri': 'spotify:album:2wOWfpfLWKlMQDsyM5UqqE'}, 'artists': [{'name': 'The Roots', 'uri': 'spotify:artist:78xUyw6FkVZrRAtziFdtdu'}, {'name': 'Cody Chesnutt', 'uri': 'spotify:artist:3sO8muEXafy2NGwUZByrTr'}], 'name': 'The Seed (2.0)', 'uri': 'spotify:track:0W0BDGgVnwWwMEaWwEZntk'}}, {'track': {'album': {'name': 'The Message - EP', 'uri': 'spotify:album:27nbxiTBXjPktVWud25VlD'}, 'artists': [{'name': 'Grandmaster Flash & The Furious Five', 'uri': 'spotify:artist:5hQCwevTf03u1rECrRMeop'}], 'name': 'The Message', 'uri': 'spotify:track:1J2tfINpEHRhCP8CUS15lE'}}, {'track': {'album': {'name': 'Rolling Papers', 'uri': 'spotify:album:7IG0Oqdhl819Dn3d1YVP8N'}, 'artists': [{'name': 'Wiz Khalifa', 'uri': 'spotify:artist:137W8MRPWKqSmrBGDBFSop'}], 'name': 'Black and Yellow', 'uri': 'spotify:track:18QmsgC86DW2MSBV4zlucP'}}, {'track': {'album': {'name': 'The Marshall Mathers LP', 'uri': 'spotify:album:5xifZlByZcZecgkP7sYSoW'}, 'artists': [{'name': 'Eminem', 'uri': 'spotify:artist:7dGJo4pcD2V6oG8kP0tJRR'}], 'name': 'The Real Slim Shady', 'uri': 'spotify:track:7KccdUP4IslFXUNNseqBc7'}}, {'track': {'album': {'name': 'Nothing Was The Same (Deluxe)', 'uri': 'spotify:album:2gXTTQ713nCELgPOS0qWyt'}, 'artists': [{'name': 'Drake', 'uri': 'spotify:artist:3TVXtAsR1Inumwj472S9r4'}], 'name': 'Started From the Bottom', 'uri': 'spotify:track:6V2D8Lls36APk0THDjBDfE'}}, {'track': {'album': {'name': 'The Score', 'uri': 'spotify:album:7m1r9h3wfPRm3Iv8uvq9vQ'}, 'artists': [{'name': 'Fugees', 'uri': 'spotify:artist:2WKdxPFRD7IqZvlIAvhMgY'}], 'name': 'Killing Me Softly With His Song', 'uri': 'spotify:track:1MAqR81Tz28IIqMJ2KUDAO'}}, {'track': {'album': {'name': '2001 (Explicit Version)', 'uri': 'spotify:album:5csXMdS69VOvh8MjyfwkjB'}, 'artists': [{'name': 'Dr. Dre', 'uri': 'spotify:artist:6DPYiyq5kWVQS4RGwxzPC7'}, {'name': 'Snoop Dogg', 'uri': 'spotify:artist:7hJcb9fa4alzcOq3EaNPoG'}], 'name': 'The Next Episode', 'uri': 'spotify:track:20LxTsa6936zOlzTWqoPVt'}}, {'track': {'album': {'name': \"Gangsta's Paradise (US Release)\", 'uri': 'spotify:album:3gj5MfnW3Oud8Ji1n7Tops'}, 'artists': [{'name': 'Coolio', 'uri': 'spotify:artist:3y24n3XhZ96wgwRXjvS17T'}, {'name': 'L.V.', 'uri': 'spotify:artist:2LhsePRtgCo4THVKULQBL7'}], 'name': \"Gangsta's Paradise (feat. L.V.)\", 'uri': 'spotify:track:3u9fHuAtjMY1RW2mZfO4Cf'}}, {'track': {'album': {'name': 'Late Registration', 'uri': 'spotify:album:4GRDFQ9HRoO0by8H0r2a3I'}, 'artists': [{'name': 'Kanye West', 'uri': 'spotify:artist:5K4W6rqBFWDnAN6FQUkS6x'}, {'name': 'Jamie Foxx', 'uri': 'spotify:artist:7LnaAXbDVIL75IVPnndf7w'}], 'name': 'Gold Digger', 'uri': 'spotify:track:5XJJdNPkwmbUwE79gv0NxK'}}, {'track': {'album': {'name': 'Stankonia', 'uri': 'spotify:album:2tm3Ht61kqqRZtIYsBjxEj'}, 'artists': [{'name': 'Outkast', 'uri': 'spotify:artist:1G9G7WwrXka3Z1r7aIDjI7'}], 'name': 'Ms. Jackson', 'uri': 'spotify:track:0I3q5fE6wg7LIfHGngUTnV'}}, {'track': {'album': {'name': 'Vol. 2 Hard Knock Life', 'uri': 'spotify:album:0DbcIbqkdiUSJhL1K7neAv'}, 'artists': [{'name': 'JAY-Z', 'uri': 'spotify:artist:3nFkdlSjzX9mRTtwJOzDYB'}], 'name': 'Hard Knock Life (The Ghetto Anthem)', 'uri': 'spotify:track:04wE70zoYM5Pckgw36dWBq'}}, {'track': {'album': {'name': \"Peoples' Instinctive Travels & the Paths of Rhythm\", 'uri': 'spotify:album:4Qt1ZvWZ3DoKDimDMesZd5'}, 'artists': [{'name': 'A Tribe Called Quest', 'uri': 'spotify:artist:09hVIj6vWgoCDtT03h8ZCa'}], 'name': 'Can I Kick It?', 'uri': 'spotify:track:5q6pg1kvXfT7z5MqG0KKSs'}}, {'track': {'album': {'name': 'The Slim Shady LP (Explicit)', 'uri': 'spotify:album:0JnN0ZgNrYxz3Gk725HiAd'}, 'artists': [{'name': 'Eminem', 'uri': 'spotify:artist:7dGJo4pcD2V6oG8kP0tJRR'}], 'name': 'My Name Is', 'uri': 'spotify:track:2NBtFVoUJBc1SU4IM9Ipj7'}}, {'track': {'album': {'name': 'House Of Pain (US Release)', 'uri': 'spotify:album:6aQe8pwmbv89DodASvyuSq'}, 'artists': [{'name': 'House Of Pain', 'uri': 'spotify:artist:0AuW7OCyKfFrsMbtHrYgIV'}], 'name': 'Jump Around', 'uri': 'spotify:track:2oTDOIAdsxPTE7yAp4YOcv'}}, {'track': {'album': {'name': \"Get Rich Or Die Tryin'\", 'uri': 'spotify:album:5G5rgQHzdQnw32SI0WjIo5'}, 'artists': [{'name': '50 Cent', 'uri': 'spotify:artist:3q7HBObVc0L8jNeTe5Gofh'}], 'name': 'In Da Club', 'uri': 'spotify:track:7iL6o9tox1zgHpKUfh9vuC'}}, {'track': {'album': {'name': 'Expansion Team', 'uri': 'spotify:album:2cjb94ReCIDfak2sqzEcoB'}, 'artists': [{'name': 'Dilated Peoples', 'uri': 'spotify:artist:56OMwqr8qaLIRH4ZrvvdXq'}], 'name': 'Worst Comes To Worst - Edited', 'uri': 'spotify:track:7aSnPAggMMgElb6BgXeSEw'}}, {'track': {'album': {'name': '2001 (Explicit Version)', 'uri': 'spotify:album:5csXMdS69VOvh8MjyfwkjB'}, 'artists': [{'name': 'Dr. Dre', 'uri': 'spotify:artist:6DPYiyq5kWVQS4RGwxzPC7'}, {'name': 'Snoop Dogg', 'uri': 'spotify:artist:7hJcb9fa4alzcOq3EaNPoG'}], 'name': 'Still D.R.E.', 'uri': 'spotify:track:6ltPEsP4edATzvinHOzvk2'}}, {'track': {'album': {'name': \"Bad Boy's 10th Anniversary- The Hits\", 'uri': 'spotify:album:46JQVqJpOg8opDLUl1qHT1'}, 'artists': [{'name': 'Diddy', 'uri': 'spotify:artist:59wfkuBoNyhDMQGCljbUbA'}, {'name': 'Faith Evans', 'uri': 'spotify:artist:5NDMothbpdpq2xHqSjrrWn'}, {'name': '112', 'uri': 'spotify:artist:7urq0VfqxEYEEiZUkebXT4'}], 'name': \"I'll Be Missing You (feat. 112)\", 'uri': 'spotify:track:3QHONiXGMGU3z68mQInncF'}}, {'track': {'album': {'name': 'The Slim Shady LP', 'uri': 'spotify:album:1S2zX2EzIJPkcptERhrkGh'}, 'artists': [{'name': 'Eminem', 'uri': 'spotify:artist:7dGJo4pcD2V6oG8kP0tJRR'}], 'name': \"Just Don't Give A Fuck\", 'uri': 'spotify:track:0KkrT0y1iht0tqgh9vrGd3'}}, {'track': {'album': {'name': 'The Miseducation of Lauryn Hill', 'uri': 'spotify:album:2Uc0HAF0Cj0LAgyzYZX5e3'}, 'artists': [{'name': 'Ms. Lauryn Hill', 'uri': 'spotify:artist:2Mu5NfyYm8n5iTomuKAEHl'}], 'name': 'Doo Wop (That Thing)', 'uri': 'spotify:track:2Uu8IiLkLY0UXhCHka4Dlr'}}, {'track': {'album': {'name': 'It Was Written', 'uri': 'spotify:album:78Fgb88MY0ECc4GVMejqTg'}, 'artists': [{'name': 'Nas', 'uri': 'spotify:artist:20qISvAhX20dpIbOOzGK3q'}], 'name': 'Affirmative Action', 'uri': 'spotify:track:2Ja3UauMDeQnq4sI8a64Ys'}}, {'track': {'album': {'name': 'Greatest Hits', 'uri': 'spotify:album:4KqorQ6C7yDXvqgfgGrnvm'}, 'artists': [{'name': 'Arrested Development', 'uri': 'spotify:artist:5Va9LuEmaZxnbk1gMnjMD7'}], 'name': 'People Everyday', 'uri': 'spotify:track:5thts3213xwSroRd11fv5A'}}, {'track': {'album': {'name': 'The Massacre (Ecopac Reissue Explicit)', 'uri': 'spotify:album:6djlUHJRvmKU4TpgOAhmRA'}, 'artists': [{'name': '50 Cent', 'uri': 'spotify:artist:3q7HBObVc0L8jNeTe5Gofh'}, {'name': 'Olivia', 'uri': 'spotify:artist:5YBSzuCs7WaFKNr7Bky0Uf'}], 'name': 'Candy Shop', 'uri': 'spotify:track:0h5m65o5KnMFB4Gq47mbKt'}}, {'track': {'album': {'name': '2Pac Greatest Hits (Explicit Version)', 'uri': 'spotify:album:6KwC7GaK6R7Uphby8bnmqk'}, 'artists': [{'name': '2Pac', 'uri': 'spotify:artist:1ZwdS5xdxEREPySFridCfh'}, {'name': 'Talent', 'uri': 'spotify:artist:33JfM2NgTRFT9wMoQvcv6T'}], 'name': 'Changes', 'uri': 'spotify:track:3Wyc7M8twhxeyaC51BcQYb'}}, {'track': {'album': {'name': 'Miss E... So Addictive', 'uri': 'spotify:album:20t54K6C80QQH7vbcpfJcP'}, 'artists': [{'name': 'Missy Elliott', 'uri': 'spotify:artist:2wIVse2owClT7go1WT98tk'}], 'name': 'Get Ur Freak On', 'uri': 'spotify:track:6zsk6uF3MxfIeHPlubKBvR'}}, {'track': {'album': {'name': 'Mos Def & Talib Kweli Are Black Star', 'uri': 'spotify:album:6GRzmk9UGL7odxprOPop1Q'}, 'artists': [{'name': 'Black Star', 'uri': 'spotify:artist:67ei8ib6PLT1w3OkhIb4fB'}], 'name': 'Definition', 'uri': 'spotify:track:4C7Ss9bTPOWJMh3rarF1mN'}}, {'track': {'album': {'name': 'Totally Krossed Out', 'uri': 'spotify:album:5bGumbB29JBPlv4ECVURka'}, 'artists': [{'name': 'Kris Kross', 'uri': 'spotify:artist:2zrZfs23sjuHDv4E6YRmNf'}], 'name': 'Jump', 'uri': 'spotify:track:27AHAtAirQapVldIm4c9ZX'}}, {'track': {'album': {'name': 'Relapse', 'uri': 'spotify:album:04r9yvH25PwePggAYZQYq8'}, 'artists': [{'name': 'Eminem', 'uri': 'spotify:artist:7dGJo4pcD2V6oG8kP0tJRR'}], 'name': 'Bagpipes From Baghdad', 'uri': 'spotify:track:2ZwLnvDRx0f32sxnp3zJJB'}}, {'track': {'album': {'name': 'Black Sunday', 'uri': 'spotify:album:02lktkm4J7K7N8T63Gm7KX'}, 'artists': [{'name': 'Cypress Hill', 'uri': 'spotify:artist:4P0dddbxPil35MNN9G2MEX'}], 'name': 'Insane in the Brain', 'uri': 'spotify:track:1oTHteQbmJw15rPxPVXUTv'}}, {'track': {'album': {'name': \"Get Rich Or Die Tryin'\", 'uri': 'spotify:album:5G5rgQHzdQnw32SI0WjIo5'}, 'artists': [{'name': '50 Cent', 'uri': 'spotify:artist:3q7HBObVc0L8jNeTe5Gofh'}], 'name': 'P.I.M.P.', 'uri': 'spotify:track:3G0yz3DZn3lfraledmBCT0'}}, {'track': {'album': {'name': 'H.N.I.C', 'uri': 'spotify:album:2QUFFROstU45kWuFbakHYv'}, 'artists': [{'name': 'Prodigy', 'uri': 'spotify:artist:1GwxXgEc6oxCKQ5wykWXFs'}], 'name': 'Keep It Thoro', 'uri': 'spotify:track:0yX1VnMvtK1QNNHF3JQYMP'}}, {'track': {'album': {'name': 'Nellyville (Explicit Version)', 'uri': 'spotify:album:502wXEj9iWWdqaAi0CO75M'}, 'artists': [{'name': 'Nelly', 'uri': 'spotify:artist:2gBjLmx6zQnFGQJCAQpRgw'}], 'name': 'Hot In Herre', 'uri': 'spotify:track:0oXuKhuNkXiZtuoxrdt3Ca'}}, {'track': {'album': {'name': 'Tha Carter III', 'uri': 'spotify:album:1Do3y8IAcbYOToYQJnGwSO'}, 'artists': [{'name': 'Lil Wayne', 'uri': 'spotify:artist:55Aa2cqylxrFIXC767Z865'}, {'name': 'Static Major', 'uri': 'spotify:artist:3pbi8H08p95NUZ7m6ybxUV'}], 'name': 'Lollipop', 'uri': 'spotify:track:5jnxxpX2834SB6LJ0S73Uz'}}, {'track': {'album': {'name': 'Party We Will Throw Now! - Single', 'uri': 'spotify:album:0bTkYfBstiSW4maInjgqVi'}, 'artists': [{'name': 'Warren G', 'uri': 'spotify:artist:2B4ZHz4QDWJTXPFPgO5peE'}, {'name': 'Nate Dogg', 'uri': 'spotify:artist:1Oa0bMld0A3u5OTYfMzp5h'}, {'name': 'The Game', 'uri': 'spotify:artist:0NbfKEOTQCcwd6o7wSDOHI'}], 'name': 'Party We Will Throw Now!', 'uri': 'spotify:track:0KbIwqCAHmXWu7hrszXY6j'}}, {'track': {'album': {'name': 'Under Construction', 'uri': 'spotify:album:6DeU398qrJ1bLuryetSmup'}, 'artists': [{'name': 'Missy Elliott', 'uri': 'spotify:artist:2wIVse2owClT7go1WT98tk'}], 'name': 'Work It', 'uri': 'spotify:track:3jagJCUbdqhDSPuxP8cAqF'}}, {'track': {'album': {'name': 'The Greatest', 'uri': 'spotify:album:1dxyoIAlE2NS77K3nzei6Y'}, 'artists': [{'name': 'Xzibit', 'uri': 'spotify:artist:4tujQJicOnuZRLiBFdp3Ou'}], 'name': 'X', 'uri': 'spotify:track:16LnNR25rqcvQVNv5UEQ7g'}}, {'track': {'album': {'name': 'Life After Death (Explicit Version)', 'uri': 'spotify:album:0r8l3aDR2okS3AZ0OekTVs'}, 'artists': [{'name': 'The Notorious B.I.G.', 'uri': 'spotify:artist:5me0Irg2ANcsgc93uaYrpb'}, {'name': 'Mase', 'uri': 'spotify:artist:1wiBLzTI7z9RUwEpNPdFT6'}, {'name': 'Diddy', 'uri': 'spotify:artist:59wfkuBoNyhDMQGCljbUbA'}], 'name': 'Mo Money Mo Problems', 'uri': 'spotify:track:5JUcGqo5BF2Hw6qqVoGBcN'}}, {'track': {'album': {'name': 'The Documentary', 'uri': 'spotify:album:0d0QL1mV66wpb9cBvCSF0G'}, 'artists': [{'name': 'The Game', 'uri': 'spotify:artist:0NbfKEOTQCcwd6o7wSDOHI'}, {'name': '50 Cent', 'uri': 'spotify:artist:3q7HBObVc0L8jNeTe5Gofh'}], 'name': 'Hate It Or Love It', 'uri': 'spotify:track:60WcXjimfbhk6T0gj1Eufg'}}, {'track': {'album': {'name': 'Tical', 'uri': 'spotify:album:46aDAIGFo18w04DFCaDCVi'}, 'artists': [{'name': 'Method Man', 'uri': 'spotify:artist:4VmEWwd8y9MCLwexFMdpwt'}], 'name': 'Bring The Pain', 'uri': 'spotify:track:2vpvIEM9321ME9Z63nd3Rm'}}, {'track': {'album': {'name': 'Genesis', 'uri': 'spotify:album:1FH8ruELaU1kthrFvdcSmt'}, 'artists': [{'name': 'Busta Rhymes', 'uri': 'spotify:artist:1YfEcTuGvBQ8xSD1f53UnK'}], 'name': 'Break Ya Neck', 'uri': 'spotify:track:0svl7cK07gK1ia5ainczU5'}}, {'track': {'album': {'name': 'Ghetto Supastar', 'uri': 'spotify:album:0bCx3zLZj4wezD07YFrLPM'}, 'artists': [{'name': 'Pras', 'uri': 'spotify:artist:0kJMPTXq7h3ztpDukSx5iD'}, {'name': 'ODB', 'uri': 'spotify:artist:50NoVNy9GU1lCrDV8iGpyu'}, {'name': 'Mýa', 'uri': 'spotify:artist:6lHL3ubAMgSasKjNqKb8HF'}], 'name': \"Ghetto Supastar (That is What You Are) (feat. Ol' Dirty Bastard & Mýa)\", 'uri': 'spotify:track:31bf9SEOppLU6lQ85d8om6'}}, {'track': {'album': {'name': 'Tha Carter III', 'uri': 'spotify:album:1Do3y8IAcbYOToYQJnGwSO'}, 'artists': [{'name': 'Lil Wayne', 'uri': 'spotify:artist:55Aa2cqylxrFIXC767Z865'}], 'name': 'A Milli', 'uri': 'spotify:track:3uqinR4FCjLv28bkrTdNX5'}}, {'track': {'album': {'name': '...And Then There Was X', 'uri': 'spotify:album:7sGZLiJP6WszkshzArMxW6'}, 'artists': [{'name': 'DMX', 'uri': 'spotify:artist:1HwM5zlC5qNWhJtM00yXzG'}], 'name': 'Party Up', 'uri': 'spotify:track:2AaknMNIfzMqZGvbcDsJHZ'}}, {'track': {'album': {'name': 'The Best of 2Pac', 'uri': 'spotify:album:4Y9ISbppFbwk0r1XCLUi0I'}, 'artists': [{'name': '2Pac', 'uri': 'spotify:artist:1ZwdS5xdxEREPySFridCfh'}, {'name': 'Roger', 'uri': 'spotify:artist:3GMoVpWJy4smKuxFuFTwXC'}, {'name': 'Dr. Dre', 'uri': 'spotify:artist:6DPYiyq5kWVQS4RGwxzPC7'}], 'name': 'California Love - Original Version', 'uri': 'spotify:track:3djNBlI7xOggg7pnsOLaNm'}}, {'track': {'album': {'name': 'Best Of', 'uri': 'spotify:album:6D1g147osjbvbKgHyebpeI'}, 'artists': [{'name': 'Method Man', 'uri': 'spotify:artist:4VmEWwd8y9MCLwexFMdpwt'}, {'name': 'Redman', 'uri': 'spotify:artist:7xTKLpo7UCzXSnlH7fOIoM'}], 'name': 'Da Rockwilder', 'uri': 'spotify:track:3SZ6wolreMbwvYbplXvt9M'}}, {'track': {'album': {'name': 'The Saga Continues...', 'uri': 'spotify:album:28BrFxsnBMjN689hOuf1jv'}, 'artists': [{'name': 'Diddy', 'uri': 'spotify:artist:59wfkuBoNyhDMQGCljbUbA'}, {'name': 'Black Rob', 'uri': 'spotify:artist:1QPZhx0asYTBxD5RDqfU49'}, {'name': 'Mark Curry', 'uri': 'spotify:artist:20N6dS0vq9kMWXUqEkFrBA'}], 'name': 'Bad Boy for Life', 'uri': 'spotify:track:2eOuL8KesslTLQERQPu11D'}}, {'track': {'album': {'name': 'Straight Outta Compton (Music From The Motion Picture)', 'uri': 'spotify:album:1rMnLDmzyEBRiCj7yoGK2n'}, 'artists': [{'name': 'Dr. Dre', 'uri': 'spotify:artist:6DPYiyq5kWVQS4RGwxzPC7'}, {'name': 'Snoop Dogg', 'uri': 'spotify:artist:7hJcb9fa4alzcOq3EaNPoG'}], 'name': 'Nuthin\\' But A \"G\" Thang', 'uri': 'spotify:track:5QweA9yLsFBsBtCYJNQ24w'}}, {'track': {'album': {'name': 'Greatest Hits with a Twist - Deluxe Edition', 'uri': 'spotify:album:0K2A6RaCTpcNKTZwvLMeqY'}, 'artists': [{'name': 'DMX', 'uri': 'spotify:artist:1HwM5zlC5qNWhJtM00yXzG'}], 'name': \"Ruff Ryders' Anthem - Re-Recorded\", 'uri': 'spotify:track:32SFvZODywPBVDYSYtqxCj'}}, {'track': {'album': {'name': 'The Essentials', 'uri': 'spotify:album:1N4pAgoZjA2oGnh4bTk8oh'}, 'artists': [{'name': 'Ice Cube', 'uri': 'spotify:artist:3Mcii5XWf6E0lrY3Uky4cA'}], 'name': 'It Was A Good Day', 'uri': 'spotify:track:2MuJbBWAVewREJmB8WdGJ3'}}, {'track': {'album': {'name': 'Mr. Davis', 'uri': 'spotify:album:2aTOwGU66ocsf8IQpOI0XZ'}, 'artists': [{'name': 'Gucci Mane', 'uri': 'spotify:artist:13y7CgLHjMVRMDqxdx0Xdo'}, {'name': 'Migos', 'uri': 'spotify:artist:6oMuImdp5ZcFhWP0ESe6mG'}], 'name': 'I Get the Bag (feat. Migos)', 'uri': 'spotify:track:1XRgIKC5TPwo7nWGyKqgG0'}}, {'track': {'album': {'name': 'Capital Punishment (Explicit Version)', 'uri': 'spotify:album:3IIHk2ZLXKWuVAjCbQ9g4Y'}, 'artists': [{'name': 'Big Pun', 'uri': 'spotify:artist:2Xu7q46Hf02xOoEIm4E1Qs'}], 'name': \"You Ain't a Killer\", 'uri': 'spotify:track:14Ai4sTxWbQpNymhpQKuES'}}, {'track': {'album': {'name': 'Regulate G Funk (Enhanced Reissue)', 'uri': 'spotify:album:5Gs0hhZRYlR3kouHqFsrkV'}, 'artists': [{'name': 'Warren G', 'uri': 'spotify:artist:2B4ZHz4QDWJTXPFPgO5peE'}, {'name': 'Nate Dogg', 'uri': 'spotify:artist:1Oa0bMld0A3u5OTYfMzp5h'}], 'name': 'Regulate', 'uri': 'spotify:track:5EEOjaJyWvfMglmEwf9bG3'}}, {'track': {'album': {'name': \"Bad Boy's 10th Anniversary- The Hits\", 'uri': 'spotify:album:46JQVqJpOg8opDLUl1qHT1'}, 'artists': [{'name': '112', 'uri': 'spotify:artist:7urq0VfqxEYEEiZUkebXT4'}, {'name': 'The Notorious B.I.G.', 'uri': 'spotify:artist:5me0Irg2ANcsgc93uaYrpb'}, {'name': 'Mase', 'uri': 'spotify:artist:1wiBLzTI7z9RUwEpNPdFT6'}], 'name': 'Only You (feat. The Notorious B.I.G. & Mase) - Bad Boy Remix', 'uri': 'spotify:track:13r5JSQ9i1ID0ZqMSDbi4s'}}, {'track': {'album': {'name': 'Jealous Ones Still Envy (J.O.S.E)', 'uri': 'spotify:album:6vMgb2mih3pPiWUxF8VEdI'}, 'artists': [{'name': 'Fat Joe', 'uri': 'spotify:artist:3ScY9CQxNLQei8Umvpx5g6'}, {'name': 'Ja Rule', 'uri': 'spotify:artist:1J2VVASYAamtQ3Bt8wGgA6'}, {'name': 'Ashanti', 'uri': 'spotify:artist:5rkVyNGXEgeUqKkB5ccK83'}], 'name': \"What's Luv? (feat. Ja-Rule & Ashanti)\", 'uri': 'spotify:track:2mKouqwAIdQnMP43zxR89r'}}, {'track': {'album': {'name': 'Yukmouth Presents: 420', 'uri': 'spotify:album:14V70hXPeg6dtP5YxkRMeE'}, 'artists': [{'name': 'Luniz', 'uri': 'spotify:artist:3z3g65U7mmyyBmmDfsQK9x'}], 'name': 'I Got 5 On It', 'uri': 'spotify:track:7vfvZp6KZJpxiaW6rI9ieM'}}, {'track': {'album': {'name': 'Word Of Mouf', 'uri': 'spotify:album:5UWPoHzVFzdWpXHx1Oc9dK'}, 'artists': [{'name': 'Ludacris', 'uri': 'spotify:artist:3ipn9JLAPI5GUEo4y4jcoi'}, {'name': 'Nate Dogg', 'uri': 'spotify:artist:1Oa0bMld0A3u5OTYfMzp5h'}], 'name': 'Area Codes', 'uri': 'spotify:track:1KLtkmQnN9pMgP6T4FdWk5'}}, {'track': {'album': {'name': 'The Legacy: The Best Of Big Pun', 'uri': 'spotify:album:27kwcpCGnZAWK4fMOdDea0'}, 'artists': [{'name': 'Big Pun', 'uri': 'spotify:artist:2Xu7q46Hf02xOoEIm4E1Qs'}, {'name': 'Joe', 'uri': 'spotify:artist:3zTOe1BtyTkwNvYZOxXktX'}], 'name': 'Still Not a Player (feat. Joe)', 'uri': 'spotify:track:2ntj6zoYOXfdQDzxo2kHrD'}}]}\n"
     ]
    }
   ],
   "source": [
    "##Récupération de playlists thématiques pour tester les recommandations\n",
    "category = spotify.categories(limit=40,country=\"FR\")\n",
    "for x in range(40):\n",
    "    cat=category.items[x]\n",
    "    \n",
    "    if cat.name==\"Rock\":\n",
    "        for y in range(20):\n",
    "            playlist=spotify.category_playlists(cat.id,limit=20).items[y]\n",
    "            if playlist.name == \"Rock Classics\":\n",
    "                rock_songs=spotify.playlist_items(playlist.id,fields=\"items(track(artists(name,uri),album(name,uri),name,uri))\")\n",
    "                with open('playlist_rock.json', 'w') as file_json :\n",
    "                    json.dump(rock_songs, file_json) \n",
    "    \n",
    "    elif cat.name==\"Hip Hop\":\n",
    "        for y in range(20):\n",
    "            playlist=spotify.category_playlists(cat.id,limit=20).items[y]\n",
    "            if playlist.name == \"Classiques du Rap US\":\n",
    "                rap_songs=spotify.playlist_items(playlist.id,fields=\"items(track(artists(name,uri),album(name,uri),name,uri))\")\n",
    "                with open('playlist_rap.json', 'w') as file_json :\n",
    "                    json.dump(rap_songs, file_json)"
   ]
  }
 ],
 "metadata": {
  "kernelspec": {
   "display_name": "Python 3",
   "language": "python",
   "name": "python3"
  },
  "language_info": {
   "codemirror_mode": {
    "name": "ipython",
    "version": 3
   },
   "file_extension": ".py",
   "mimetype": "text/x-python",
   "name": "python",
   "nbconvert_exporter": "python",
   "pygments_lexer": "ipython3",
   "version": "3.7.8"
  }
 },
 "nbformat": 4,
 "nbformat_minor": 4
}
