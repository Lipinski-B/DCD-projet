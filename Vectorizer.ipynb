{
 "cells": [
  {
   "cell_type": "code",
   "execution_count": 3,
   "metadata": {},
   "outputs": [],
   "source": [
    "import json\n",
    "import pandas as pd  "
   ]
  },
  {
   "cell_type": "code",
   "execution_count": 26,
   "metadata": {},
   "outputs": [],
   "source": [
    "#Je pense pas qu'il y ai vraiment besoin de doc pas la fonction la plus complex du monde ... \n",
    "#La methode prend en entrée la liste des musique unique de la matrice et un fichier JSON (Recuperer par spotify)\n",
    "def vectorizer2(fileUniqueSongs, filePlaylists):\n",
    "    listSongs = pd.read_csv(fileUniqueSongs, header = None)\n",
    "    songs = listSongs.values\n",
    "    with open(filePlaylists, 'r') as f:\n",
    "        jsonDict = json.load(f)\n",
    "    dicSongs = {}\n",
    "    for track in jsonDict['items']:\n",
    "        if track['track']['uri'] in dicSongs:\n",
    "            dicSongs[track['track']['uri']]+=1\n",
    "        else:\n",
    "            dicSongs[track['track']['uri']]=1\n",
    "    vect = []\n",
    "    for song in songs:\n",
    "        if song[0] in dicSongs:\n",
    "            vect.append(1)\n",
    "        else:\n",
    "            vect.append(0)\n",
    "            \n",
    "    return vect"
   ]
  },
  {
   "cell_type": "code",
   "execution_count": 27,
   "metadata": {},
   "outputs": [],
   "source": [
    "#Pour tester : names.txt fichier du grand K (sur le subset) et playlist_to.json palylist de Théo\n",
    "vect = vectorizer2('names.txt','playlist_to.json')"
   ]
  },
  {
   "cell_type": "code",
   "execution_count": 28,
   "metadata": {},
   "outputs": [
    {
     "data": {
      "text/plain": [
       "755279"
      ]
     },
     "execution_count": 28,
     "metadata": {},
     "output_type": "execute_result"
    }
   ],
   "source": [
    "len(vect)"
   ]
  },
  {
   "cell_type": "code",
   "execution_count": null,
   "metadata": {},
   "outputs": [],
   "source": [
    "##Ce fichier est à détruire une fois le code récupéré (pas d'auto-destruction)"
   ]
  },
  {
   "cell_type": "code",
   "execution_count": 11,
   "metadata": {},
   "outputs": [],
   "source": []
  },
  {
   "cell_type": "code",
   "execution_count": 8,
   "metadata": {},
   "outputs": [],
   "source": []
  }
 ],
 "metadata": {
  "kernelspec": {
   "display_name": "Python 3",
   "language": "python",
   "name": "python3"
  },
  "language_info": {
   "codemirror_mode": {
    "name": "ipython",
    "version": 3
   },
   "file_extension": ".py",
   "mimetype": "text/x-python",
   "name": "python",
   "nbconvert_exporter": "python",
   "pygments_lexer": "ipython3",
   "version": "3.8.6"
  }
 },
 "nbformat": 4,
 "nbformat_minor": 4
}
